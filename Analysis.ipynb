{
 "cells": [
  {
   "cell_type": "code",
   "execution_count": 1,
   "id": "5d5634bb-7042-4be1-bddc-ae72febcd001",
   "metadata": {},
   "outputs": [],
   "source": [
    "import pandas as pd"
   ]
  },
  {
   "cell_type": "code",
   "execution_count": 6,
   "id": "8884d91d-f9f5-4847-8d41-beff69b8f2f8",
   "metadata": {},
   "outputs": [],
   "source": [
    "data = pd.read_csv(r\"C:\\Users\\khali\\OneDrive\\Documents\\Case Study Data.csv\")"
   ]
  },
  {
   "cell_type": "code",
   "execution_count": 8,
   "id": "88ff762b-e1f8-444e-be19-28d8263fda9b",
   "metadata": {},
   "outputs": [
    {
     "name": "stdout",
     "output_type": "stream",
     "text": [
      "<class 'pandas.core.frame.DataFrame'>\n",
      "RangeIndex: 120871 entries, 0 to 120870\n",
      "Data columns (total 12 columns):\n",
      " #   Column              Non-Null Count   Dtype  \n",
      "---  ------              --------------   -----  \n",
      " 0   Index               120871 non-null  int64  \n",
      " 1   Order No            120871 non-null  object \n",
      " 2   Customer ID         120871 non-null  object \n",
      " 3   Site                120871 non-null  object \n",
      " 4   Channel (Web)       120871 non-null  object \n",
      " 5   Base Currency Code  120871 non-null  object \n",
      " 6   Base Revenue        120871 non-null  float64\n",
      " 7   FX Rate             120871 non-null  float64\n",
      " 8   Reporting Revenue   120871 non-null  object \n",
      " 9   Invoiced Date       120871 non-null  object \n",
      " 10  Delivery Country    120871 non-null  object \n",
      " 11  Product Range       120871 non-null  object \n",
      "dtypes: float64(2), int64(1), object(9)\n",
      "memory usage: 11.1+ MB\n",
      "None\n"
     ]
    }
   ],
   "source": [
    "# Show basic info about the dataset\n",
    "print(data.info())"
   ]
  },
  {
   "cell_type": "code",
   "execution_count": 12,
   "id": "a2bb5f44-cd46-4c19-a545-51a129798513",
   "metadata": {},
   "outputs": [
    {
     "name": "stdout",
     "output_type": "stream",
     "text": [
      "   Index               Order No       Customer ID  Site Channel (Web)  \\\n",
      "0      1  ORDACODR4122316575695  CUS5020005842526  MANC       Non-Web   \n",
      "1      2  ORDEKOE10157604022214  CUS9720048726428  MILA       Non-Web   \n",
      "2      3  ORDLQME10161113943828  CUS5220014554169  MILA           Web   \n",
      "3      4  ORDMNZE10162377382941  CUS9720048726428  MILA           Web   \n",
      "4      5  ORDOTBE10163125040476  CUS6320133703341  MANC           Web   \n",
      "\n",
      "  Base Currency Code  Base Revenue  FX Rate Reporting Revenue Invoiced Date  \\\n",
      "0                USD         52.42     1.27            41.28       6/8/2023   \n",
      "1                EUR        267.30     1.19           224.62      10/2/2023   \n",
      "2                EUR        351.48     1.19           295.36      11/1/2023   \n",
      "3                EUR        705.13     1.19           592.55      10/2/2023   \n",
      "4                USD        471.88     1.34           352.15       1/4/2023   \n",
      "\n",
      "  Delivery Country   Product Range  \n",
      "0    UNITED STATES  Industrials OP  \n",
      "1            ITALY             TRC  \n",
      "2            ITALY         Dr E OP  \n",
      "3               IT      MikromolOP  \n",
      "4              USA         Dr E OP  \n"
     ]
    }
   ],
   "source": [
    "print(data.head())"
   ]
  },
  {
   "cell_type": "code",
   "execution_count": 14,
   "id": "2f180f4e-1a79-4bf2-ac90-0839c58440b5",
   "metadata": {},
   "outputs": [
    {
     "name": "stdout",
     "output_type": "stream",
     "text": [
      "['UNITED STATES' 'ITALY' 'IT' 'USA' 'PORTUGAL' 'CANADA' 'SPAIN' 'ES'\n",
      " 'NETHERLANDS' 'FINLAND' 'LITHUANIA' 'FR' 'GERMANY' 'MEXICO' 'POLAND'\n",
      " 'NORWAY' 'SWEDEN' 'TURKEY' 'CZECH REPUBLIC' 'SWITZERLAND' 'FRANCE'\n",
      " 'BOSNIA AND HERZEGOVINA' 'ICELAND' 'DENMARK' 'UNITED KINGDOM' 'BELGIUM'\n",
      " 'ROMANIA' 'UK' 'IRELAND' 'HUNGARY' 'GREECE' 'SERBIA' 'CROATIA' 'SLOVENIA'\n",
      " 'AUSTRIA' 'SLOVAKIA' 'LATVIA' 'ALBANIA' 'MALTA' 'ESTONIA' 'LUXEMBOURG'\n",
      " 'BULGARIA']\n",
      "0     6/8/2023\n",
      "1    10/2/2023\n",
      "2    11/1/2023\n",
      "3    10/2/2023\n",
      "4     1/4/2023\n",
      "Name: Invoiced Date, dtype: object\n",
      "Invalid Dates:          Index               Order No       Customer ID  Site Channel (Web)  \\\n",
      "7            8  ORDWKYE10165592190028  CUS5520114795757  MANC           Web   \n",
      "10          11  ORDDVLE10167371855338  CUS5620091280401  MANC           Web   \n",
      "12          13  ORDOHAE10167493438123  CUS3620042392619  MANC           Web   \n",
      "18          19  ORDGHTE10167822070390  CUS0720136496321  MANC           Web   \n",
      "20          21  ORDNSRE10168250044410  CUS7120046703188  MANC           Web   \n",
      "...        ...                    ...               ...   ...           ...   \n",
      "120866  120867  ORDZNXY10165713564560  CUS8120040045503  MANC       Non-Web   \n",
      "120867  120868  ORDFXTY10165713721565  CUS8120040045503  MANC       Non-Web   \n",
      "120868  120869  ORDPEHY10165714901484  CUS9420041939153  MANC       Non-Web   \n",
      "120869  120870  ORDEDFY10165717333149  CUS5020005842526  MANC       Non-Web   \n",
      "120870  120871  ORDNKRY10165717782398  CUS5020005842526  MANC       Non-Web   \n",
      "\n",
      "       Base Currency Code  Base Revenue  FX Rate Reporting Revenue  \\\n",
      "7                     USD        713.69     1.34           532.60    \n",
      "10                    USD        503.36     1.34           375.64    \n",
      "12                    USD        107.56     1.34            80.27    \n",
      "18                    USD        159.84     1.34           119.28    \n",
      "20                    USD        311.85     1.34           232.72    \n",
      "...                   ...           ...      ...               ...   \n",
      "120866                USD         37.98     1.27            29.91    \n",
      "120867                USD        285.27     1.27           224.62    \n",
      "120868                USD        105.70     1.27            83.23    \n",
      "120869                USD        278.39     1.27           219.20    \n",
      "120870                USD        607.86     1.27           478.63    \n",
      "\n",
      "       Invoiced Date Delivery Country   Product Range  \n",
      "7                NaT              USA      MikromolOP  \n",
      "10               NaT              USA             TRC  \n",
      "12               NaT    UNITED STATES  Industrials OP  \n",
      "18               NaT    UNITED STATES           DrEOP  \n",
      "20               NaT              USA     Mikromol OP  \n",
      "...              ...              ...             ...  \n",
      "120866           NaT    UNITED STATES  Industrials OP  \n",
      "120867           NaT    UNITED STATES  Industrials OP  \n",
      "120868           NaT              USA  Industrials OP  \n",
      "120869           NaT    UNITED STATES         Dr E OP  \n",
      "120870           NaT    UNITED STATES         Dr E OP  \n",
      "\n",
      "[37174 rows x 12 columns]\n",
      "   Index               Order No       Customer ID  Site Channel (Web)  \\\n",
      "0      1  ORDACODR4122316575695  CUS5020005842526  MANC       Non-Web   \n",
      "1      2  ORDEKOE10157604022214  CUS9720048726428  MILA       Non-Web   \n",
      "2      3  ORDLQME10161113943828  CUS5220014554169  MILA           Web   \n",
      "3      4  ORDMNZE10162377382941  CUS9720048726428  MILA           Web   \n",
      "4      5  ORDOTBE10163125040476  CUS6320133703341  MANC           Web   \n",
      "\n",
      "  Base Currency Code  Base Revenue  FX Rate Reporting Revenue Invoiced Date  \\\n",
      "0                USD         52.42     1.27            41.28     2023-08-06   \n",
      "1                EUR        267.30     1.19           224.62     2023-02-10   \n",
      "2                EUR        351.48     1.19           295.36     2023-01-11   \n",
      "3                EUR        705.13     1.19           592.55     2023-02-10   \n",
      "4                USD        471.88     1.34           352.15     2023-04-01   \n",
      "\n",
      "  Delivery Country   Product Range  \n",
      "0    UNITED STATES  Industrials OP  \n",
      "1            ITALY             TRC  \n",
      "2            ITALY         Dr E OP  \n",
      "3               IT      MikromolOP  \n",
      "4              USA         Dr E OP  \n"
     ]
    }
   ],
   "source": [
    "# Check the unique delivery countries to understand where the formats might differ\n",
    "print(data['Delivery Country'].unique())\n",
    "\n",
    "# Inspect the first few dates in 'Invoiced Date' column to see the format inconsistencies\n",
    "print(data['Invoiced Date'].head())\n",
    "\n",
    "# Use pd.to_datetime to convert dates, handling various date formats\n",
    "data['Invoiced Date'] = pd.to_datetime(data['Invoiced Date'], errors='coerce', dayfirst=True)\n",
    "\n",
    "# Check if there are any invalid dates (NaT - Not a Time)\n",
    "invalid_dates = data[data['Invoiced Date'].isna()]\n",
    "print(f\"Invalid Dates: {invalid_dates}\")\n",
    "\n",
    "# Show the first few rows after conversion to ensure the dates are standardized\n",
    "print(data.head())"
   ]
  },
  {
   "cell_type": "code",
   "execution_count": 16,
   "id": "2b363691-c49f-48d8-8f76-e8df4ec8979a",
   "metadata": {},
   "outputs": [
    {
     "name": "stdout",
     "output_type": "stream",
     "text": [
      "         Index               Order No       Customer ID  Site Channel (Web)  \\\n",
      "7            8  ORDWKYE10165592190028  CUS5520114795757  MANC           Web   \n",
      "10          11  ORDDVLE10167371855338  CUS5620091280401  MANC           Web   \n",
      "12          13  ORDOHAE10167493438123  CUS3620042392619  MANC           Web   \n",
      "18          19  ORDGHTE10167822070390  CUS0720136496321  MANC           Web   \n",
      "20          21  ORDNSRE10168250044410  CUS7120046703188  MANC           Web   \n",
      "...        ...                    ...               ...   ...           ...   \n",
      "120866  120867  ORDZNXY10165713564560  CUS8120040045503  MANC       Non-Web   \n",
      "120867  120868  ORDFXTY10165713721565  CUS8120040045503  MANC       Non-Web   \n",
      "120868  120869  ORDPEHY10165714901484  CUS9420041939153  MANC       Non-Web   \n",
      "120869  120870  ORDEDFY10165717333149  CUS5020005842526  MANC       Non-Web   \n",
      "120870  120871  ORDNKRY10165717782398  CUS5020005842526  MANC       Non-Web   \n",
      "\n",
      "       Base Currency Code  Base Revenue  FX Rate Reporting Revenue  \\\n",
      "7                     USD        713.69     1.34           532.60    \n",
      "10                    USD        503.36     1.34           375.64    \n",
      "12                    USD        107.56     1.34            80.27    \n",
      "18                    USD        159.84     1.34           119.28    \n",
      "20                    USD        311.85     1.34           232.72    \n",
      "...                   ...           ...      ...               ...   \n",
      "120866                USD         37.98     1.27            29.91    \n",
      "120867                USD        285.27     1.27           224.62    \n",
      "120868                USD        105.70     1.27            83.23    \n",
      "120869                USD        278.39     1.27           219.20    \n",
      "120870                USD        607.86     1.27           478.63    \n",
      "\n",
      "       Invoiced Date Delivery Country   Product Range  \n",
      "7                NaT              USA      MikromolOP  \n",
      "10               NaT              USA             TRC  \n",
      "12               NaT    UNITED STATES  Industrials OP  \n",
      "18               NaT    UNITED STATES           DrEOP  \n",
      "20               NaT              USA     Mikromol OP  \n",
      "...              ...              ...             ...  \n",
      "120866           NaT    UNITED STATES  Industrials OP  \n",
      "120867           NaT    UNITED STATES  Industrials OP  \n",
      "120868           NaT              USA  Industrials OP  \n",
      "120869           NaT    UNITED STATES         Dr E OP  \n",
      "120870           NaT    UNITED STATES         Dr E OP  \n",
      "\n",
      "[37174 rows x 12 columns]\n"
     ]
    }
   ],
   "source": [
    "invalid_dates = data[data['Invoiced Date'].isna()]\n",
    "print(invalid_dates)"
   ]
  },
  {
   "cell_type": "code",
   "execution_count": 18,
   "id": "22e51879-0122-4a7a-9c51-2679139e6d73",
   "metadata": {},
   "outputs": [
    {
     "name": "stdout",
     "output_type": "stream",
     "text": [
      "Total missing dates: 37174\n"
     ]
    }
   ],
   "source": [
    "# Check for missing values in 'Invoiced Date' column\n",
    "missing_dates_count = data['Invoiced Date'].isna().sum()\n",
    "print(f\"Total missing dates: {missing_dates_count}\")"
   ]
  },
  {
   "cell_type": "code",
   "execution_count": 20,
   "id": "04840fae-708b-402c-b39d-c2cf2ab0e8dc",
   "metadata": {},
   "outputs": [
    {
     "name": "stderr",
     "output_type": "stream",
     "text": [
      "C:\\Users\\khali\\AppData\\Local\\Temp\\ipykernel_23888\\763304832.py:2: FutureWarning: SeriesGroupBy.fillna is deprecated and will be removed in a future version. Use obj.ffill() or obj.bfill() for forward or backward filling instead. If you want to fill with a single value, use Series.fillna instead\n",
      "  data['Invoiced Date'] = data.groupby('Customer ID')['Invoiced Date'].fillna(method='ffill')\n",
      "C:\\Users\\khali\\AppData\\Local\\Temp\\ipykernel_23888\\763304832.py:2: FutureWarning: Series.fillna with 'method' is deprecated and will raise in a future version. Use obj.ffill() or obj.bfill() instead.\n",
      "  data['Invoiced Date'] = data.groupby('Customer ID')['Invoiced Date'].fillna(method='ffill')\n"
     ]
    },
    {
     "name": "stdout",
     "output_type": "stream",
     "text": [
      "Total missing dates after filling: 5874\n"
     ]
    }
   ],
   "source": [
    "# Group by Customer ID and forward fill the missing 'Invoiced Date' values\n",
    "data['Invoiced Date'] = data.groupby('Customer ID')['Invoiced Date'].fillna(method='ffill')\n",
    "\n",
    "# Verify how many missing dates remain after forward filling\n",
    "missing_dates_count_after_filling = data['Invoiced Date'].isna().sum()\n",
    "print(f\"Total missing dates after filling: {missing_dates_count_after_filling}\")"
   ]
  },
  {
   "cell_type": "code",
   "execution_count": 22,
   "id": "b12a586a-0440-442d-9a0b-6703cabd67a2",
   "metadata": {},
   "outputs": [
    {
     "name": "stdout",
     "output_type": "stream",
     "text": [
      "Rows with missing dates after forward-filling:\n",
      "             Customer ID Invoiced Date\n",
      "7       CUS5520114795757           NaT\n",
      "10      CUS5620091280401           NaT\n",
      "12      CUS3620042392619           NaT\n",
      "18      CUS0720136496321           NaT\n",
      "20      CUS7120046703188           NaT\n",
      "...                  ...           ...\n",
      "120807  CUS3620041686222           NaT\n",
      "120808  CUS3620041686222           NaT\n",
      "120826  CUS7120152563041           NaT\n",
      "120827  CUS7120152563041           NaT\n",
      "120839  CUS0320029459270           NaT\n",
      "\n",
      "[5874 rows x 2 columns]\n"
     ]
    }
   ],
   "source": [
    "# Check rows with missing 'Invoiced Date' after filling\n",
    "invalid_dates_after_filling = data[data['Invoiced Date'].isna()]\n",
    "print(f\"Rows with missing dates after forward-filling:\\n{invalid_dates_after_filling[['Customer ID', 'Invoiced Date']]}\")"
   ]
  },
  {
   "cell_type": "code",
   "execution_count": 24,
   "id": "6a822d81-b262-4dae-8080-0dfbe290568a",
   "metadata": {},
   "outputs": [
    {
     "name": "stdout",
     "output_type": "stream",
     "text": [
      "Rows with missing dates dropped: 5874\n"
     ]
    }
   ],
   "source": [
    "# Drop rows with still missing 'Invoiced Date'\n",
    "data_cleaned = data.dropna(subset=['Invoiced Date'])\n",
    "\n",
    "# Check how many rows were dropped\n",
    "removed_rows = len(data) - len(data_cleaned)\n",
    "print(f\"Rows with missing dates dropped: {removed_rows}\")"
   ]
  },
  {
   "cell_type": "code",
   "execution_count": 26,
   "id": "49c52e85-d673-4ee3-8bb3-e02bf29cf834",
   "metadata": {},
   "outputs": [
    {
     "name": "stdout",
     "output_type": "stream",
     "text": [
      "   Index               Order No       Customer ID  Site Channel (Web)  \\\n",
      "0      1  ORDACODR4122316575695  CUS5020005842526  MANC       Non-Web   \n",
      "1      2  ORDEKOE10157604022214  CUS9720048726428  MILA       Non-Web   \n",
      "2      3  ORDLQME10161113943828  CUS5220014554169  MILA           Web   \n",
      "3      4  ORDMNZE10162377382941  CUS9720048726428  MILA           Web   \n",
      "4      5  ORDOTBE10163125040476  CUS6320133703341  MANC           Web   \n",
      "\n",
      "  Base Currency Code  Base Revenue  FX Rate Reporting Revenue Invoiced Date  \\\n",
      "0                USD         52.42     1.27            41.28     2023-08-06   \n",
      "1                EUR        267.30     1.19           224.62     2023-02-10   \n",
      "2                EUR        351.48     1.19           295.36     2023-01-11   \n",
      "3                EUR        705.13     1.19           592.55     2023-02-10   \n",
      "4                USD        471.88     1.34           352.15     2023-04-01   \n",
      "\n",
      "  Delivery Country   Product Range  \n",
      "0    UNITED STATES  Industrials OP  \n",
      "1            ITALY             TRC  \n",
      "2            ITALY         Dr E OP  \n",
      "3               IT      MikromolOP  \n",
      "4              USA         Dr E OP  \n"
     ]
    }
   ],
   "source": [
    "print(data_cleaned.head())"
   ]
  },
  {
   "cell_type": "code",
   "execution_count": 36,
   "id": "e2bf7e23-2d19-4b1b-b084-64ecc30a6972",
   "metadata": {},
   "outputs": [
    {
     "name": "stdout",
     "output_type": "stream",
     "text": [
      "['United States' 'Italy' 'Portugal' 'Canada' 'Spain' 'NETHERLANDS'\n",
      " 'FINLAND' 'LITHUANIA' 'France' 'Germany' 'MEXICO' 'POLAND' 'NORWAY'\n",
      " 'SWEDEN' 'Turkey' 'CZECH REPUBLIC' 'SWITZERLAND' 'BOSNIA AND HERZEGOVINA'\n",
      " 'ICELAND' 'DENMARK' 'United Kingdom' 'Belgium' 'ROMANIA' 'IRELAND'\n",
      " 'HUNGARY' 'GREECE' 'SERBIA' 'CROATIA' 'SLOVENIA' 'AUSTRIA' 'SLOVAKIA'\n",
      " 'LATVIA' 'ALBANIA' 'MALTA' 'Estonia' 'LUXEMBOURG' 'BULGARIA']\n"
     ]
    }
   ],
   "source": [
    "# Update the country mapping to handle all variations\n",
    "country_mapping = {\n",
    "    'UK': 'United Kingdom',\n",
    "    'UNITED KINGDOM': 'United Kingdom',\n",
    "    'IT': 'Italy',\n",
    "    'ITALY': 'Italy',\n",
    "    'ES': 'Spain',\n",
    "    'SPAIN': 'Spain',\n",
    "    'DE': 'Germany',\n",
    "    'GERMANY': 'Germany',\n",
    "    'FR': 'France',\n",
    "    'FRANCE': 'France',\n",
    "    'USA': 'United States',\n",
    "    'UNITED STATES': 'United States',\n",
    "    'ESTONIA': 'Estonia',\n",
    "    'EE': 'Estonia',\n",
    "    'PORTUGAL': 'Portugal',\n",
    "    'BELGIUM': 'Belgium',\n",
    "    'CANADA': 'Canada',\n",
    "    'TURKEY': 'Turkey'\n",
    "}\n",
    "\n",
    "# Apply the country mapping\n",
    "data_cleaned.loc[:, 'Delivery Country'] = data_cleaned['Delivery Country'].replace(country_mapping)\n",
    "\n",
    "# Verify the unique countries\n",
    "print(data_cleaned['Delivery Country'].unique())"
   ]
  },
  {
   "cell_type": "code",
   "execution_count": 40,
   "id": "117053d3-3c66-43e2-984f-bb110f3e44f5",
   "metadata": {},
   "outputs": [
    {
     "name": "stdout",
     "output_type": "stream",
     "text": [
      "['United States' 'Italy' 'Portugal' 'Canada' 'Spain' 'Netherlands'\n",
      " 'Finland' 'Lithuania' 'France' 'Germany' 'Mexico' 'Poland' 'Norway'\n",
      " 'Sweden' 'Turkey' 'Czech Republic' 'Switzerland' 'Bosnia And Herzegovina'\n",
      " 'Iceland' 'Denmark' 'United Kingdom' 'Belgium' 'Romania' 'Ireland'\n",
      " 'Hungary' 'Greece' 'Serbia' 'Croatia' 'Slovenia' 'Austria' 'Slovakia'\n",
      " 'Latvia' 'Albania' 'Malta' 'Estonia' 'Luxembourg' 'Bulgaria']\n"
     ]
    }
   ],
   "source": [
    "# Standardize capitalization (convert to Title Case for all words) using .loc\n",
    "data_cleaned.loc[:, 'Delivery Country'] = data_cleaned['Delivery Country'].str.title()\n",
    "\n",
    "# Verify the unique countries again after title case standardization\n",
    "print(data_cleaned['Delivery Country'].unique())"
   ]
  },
  {
   "cell_type": "code",
   "execution_count": 44,
   "id": "293a1e52-f1b3-43b2-95d3-7d00da10dbc3",
   "metadata": {},
   "outputs": [
    {
     "name": "stdout",
     "output_type": "stream",
     "text": [
      "['Industrials Op' 'Trc' 'Dr E Op' 'Mikromolop' 'Mikromol Op' 'Dreop'\n",
      " 'Industrialsop' 'Logical Op' 'Logicalop' 'Lipomedop' 'Lipomed Op']\n"
     ]
    }
   ],
   "source": [
    "# Standardize capitalization (convert to Title Case for all words)\n",
    "data_cleaned.loc[:, 'Product Range'] = data_cleaned['Product Range'].str.title()\n",
    "\n",
    "# Remove any leading or trailing spaces from the 'Product Range' column\n",
    "data_cleaned.loc[:, 'Product Range'] = data_cleaned['Product Range'].str.strip()\n",
    "\n",
    "# Verify the changes\n",
    "print(data_cleaned['Product Range'].unique())"
   ]
  },
  {
   "cell_type": "code",
   "execution_count": 46,
   "id": "dc0f3fd2-2481-4dc7-8c9e-46058b67a273",
   "metadata": {},
   "outputs": [
    {
     "name": "stdout",
     "output_type": "stream",
     "text": [
      "['Industrials Op' 'Trc' 'Dr E Op' 'Mikromol OP' 'Mikromol Op' 'Dr E OP'\n",
      " 'Industrials OP' 'Logical Op' 'Logicalop' 'Lipomed OP' 'Lipomed Op']\n"
     ]
    }
   ],
   "source": [
    "# Define a dictionary to standardize product names\n",
    "product_mapping = {\n",
    "    'Mikromolop': 'Mikromol OP',\n",
    "    'Mikromol': 'Mikromol OP',\n",
    "    'Dreop': 'Dr E OP',\n",
    "    'Industrialsop': 'Industrials OP',\n",
    "    'Logicalolop': 'Logical OP',\n",
    "    'Lipomedop': 'Lipomed OP',\n",
    "    'Trc': 'Trc',           \n",
    "    'Dr E': 'Dr E OP'\n",
    "}\n",
    "\n",
    "# Apply the mapping to the 'Product Range' column using .loc[]\n",
    "data_cleaned.loc[:, 'Product Range'] = data_cleaned['Product Range'].replace(product_mapping)\n",
    "\n",
    "# Verify the changes\n",
    "print(data_cleaned['Product Range'].unique())"
   ]
  },
  {
   "cell_type": "code",
   "execution_count": 50,
   "id": "9e2a5629-e400-4ea2-a892-2e7c1bd4a611",
   "metadata": {},
   "outputs": [
    {
     "name": "stdout",
     "output_type": "stream",
     "text": [
      "['Industrials OP' 'Trc' 'Dr E OP' 'Mikromol OP' 'Logical OP' 'Lipomed OP']\n"
     ]
    }
   ],
   "source": [
    "# Define a dictionary to standardize product names\n",
    "product_mapping = {\n",
    "    'Mikromol Op': 'Mikromol OP',\n",
    "    'Dr E Op' : 'Dr E OP',\n",
    "    'Industrials Op': 'Industrials OP',\n",
    "    'Industrials OP': 'Industrials OP',\n",
    "    'Logical Op': 'Logical OP',\n",
    "    'Logicalop': 'Logical OP',\n",
    "    'Lipomed Op': 'Lipomed OP'\n",
    "}\n",
    "\n",
    "# Apply the mapping to the 'Product Range' column using .loc[]\n",
    "data_cleaned.loc[:, 'Product Range'] = data_cleaned['Product Range'].replace(product_mapping)\n",
    "\n",
    "# Verify the changes\n",
    "print(data_cleaned['Product Range'].unique())"
   ]
  },
  {
   "cell_type": "code",
   "execution_count": 52,
   "id": "c9d1e618-5356-4f6d-b126-ccc48c798155",
   "metadata": {},
   "outputs": [
    {
     "name": "stdout",
     "output_type": "stream",
     "text": [
      "Index                 0\n",
      "Order No              0\n",
      "Customer ID           0\n",
      "Site                  0\n",
      "Channel (Web)         0\n",
      "Base Currency Code    0\n",
      "Base Revenue          0\n",
      "FX Rate               0\n",
      "Reporting Revenue     0\n",
      "Invoiced Date         0\n",
      "Delivery Country      0\n",
      "Product Range         0\n",
      "dtype: int64\n"
     ]
    }
   ],
   "source": [
    "# Check for missing values in the entire data\n",
    "print(data_cleaned.isna().sum())"
   ]
  },
  {
   "cell_type": "code",
   "execution_count": 56,
   "id": "5c9fbf6e-4b5c-4128-8bd2-e7ef38778011",
   "metadata": {},
   "outputs": [
    {
     "name": "stdout",
     "output_type": "stream",
     "text": [
      "['Industrials OP' 'Trc' 'Dr E OP' 'Mikromol OP' 'Logical OP' 'Lipomed OP']\n",
      "['United States' 'Italy' 'Portugal' 'Canada' 'Spain' 'Netherlands'\n",
      " 'Finland' 'Lithuania' 'France' 'Germany' 'Mexico' 'Poland' 'Norway'\n",
      " 'Sweden' 'Turkey' 'Czech Republic' 'Switzerland' 'Bosnia And Herzegovina'\n",
      " 'Iceland' 'Denmark' 'United Kingdom' 'Belgium' 'Romania' 'Ireland'\n",
      " 'Hungary' 'Greece' 'Serbia' 'Croatia' 'Slovenia' 'Austria' 'Slovakia'\n",
      " 'Latvia' 'Albania' 'Malta' 'Estonia' 'Luxembourg' 'Bulgaria']\n"
     ]
    }
   ],
   "source": [
    "print(data_cleaned['Product Range'].unique())  # Check unique product names\n",
    "print(data_cleaned['Delivery Country'].unique())  # Check unique countries"
   ]
  },
  {
   "cell_type": "code",
   "execution_count": 58,
   "id": "9bfdeda6-bb9f-4226-a59b-d63b4a47f25c",
   "metadata": {},
   "outputs": [
    {
     "name": "stdout",
     "output_type": "stream",
     "text": [
      "0\n"
     ]
    }
   ],
   "source": [
    "# Check for duplicate rows\n",
    "print(data_cleaned.duplicated().sum())"
   ]
  },
  {
   "cell_type": "code",
   "execution_count": 60,
   "id": "d27d3d62-8479-421c-b424-0b59ac006171",
   "metadata": {},
   "outputs": [
    {
     "name": "stdout",
     "output_type": "stream",
     "text": [
      "               Index   Base Revenue        FX Rate  \\\n",
      "count  114997.000000  114997.000000  114997.000000   \n",
      "mean    60877.414402     528.579944       1.368883   \n",
      "min         1.000000       1.220000       1.130000   \n",
      "25%     30871.000000      72.130000       1.190000   \n",
      "50%     61370.000000     175.760000       1.270000   \n",
      "75%     90491.000000     383.170000       1.680000   \n",
      "max    120871.000000  199107.070000       1.680000   \n",
      "std     34670.655020    2035.403387       0.221771   \n",
      "\n",
      "                       Invoiced Date  \n",
      "count                         114997  \n",
      "mean   2023-08-21 05:33:33.767315712  \n",
      "min              2023-01-02 00:00:00  \n",
      "25%              2023-04-14 00:00:00  \n",
      "50%              2023-08-08 00:00:00  \n",
      "75%              2023-11-27 00:00:00  \n",
      "max              2024-12-03 00:00:00  \n",
      "std                              NaN  \n"
     ]
    }
   ],
   "source": [
    "# Get summary statistics for numeric columns\n",
    "print(data_cleaned.describe())"
   ]
  },
  {
   "cell_type": "code",
   "execution_count": 62,
   "id": "1cab622e-5d30-4ddb-9021-eabc3f4d9a8f",
   "metadata": {},
   "outputs": [
    {
     "name": "stdout",
     "output_type": "stream",
     "text": [
      "   Index               Order No       Customer ID  Site Channel (Web)  \\\n",
      "0      1  ORDACODR4122316575695  CUS5020005842526  MANC       Non-Web   \n",
      "1      2  ORDEKOE10157604022214  CUS9720048726428  MILA       Non-Web   \n",
      "2      3  ORDLQME10161113943828  CUS5220014554169  MILA           Web   \n",
      "3      4  ORDMNZE10162377382941  CUS9720048726428  MILA           Web   \n",
      "4      5  ORDOTBE10163125040476  CUS6320133703341  MANC           Web   \n",
      "\n",
      "  Base Currency Code  Base Revenue  FX Rate Reporting Revenue Invoiced Date  \\\n",
      "0                USD         52.42     1.27            41.28     2023-08-06   \n",
      "1                EUR        267.30     1.19           224.62     2023-02-10   \n",
      "2                EUR        351.48     1.19           295.36     2023-01-11   \n",
      "3                EUR        705.13     1.19           592.55     2023-02-10   \n",
      "4                USD        471.88     1.34           352.15     2023-04-01   \n",
      "\n",
      "  Delivery Country   Product Range  \n",
      "0    United States  Industrials OP  \n",
      "1            Italy             Trc  \n",
      "2            Italy         Dr E OP  \n",
      "3            Italy     Mikromol OP  \n",
      "4    United States         Dr E OP  \n"
     ]
    }
   ],
   "source": [
    "print(data_cleaned.head())"
   ]
  },
  {
   "cell_type": "code",
   "execution_count": 64,
   "id": "c7cadf28-b7ae-4564-921d-12fb297ea06f",
   "metadata": {},
   "outputs": [],
   "source": [
    "# Save the cleaned dataset\n",
    "data_cleaned.to_csv('cleaned_data_LGC.csv', index=False)"
   ]
  },
  {
   "cell_type": "code",
   "execution_count": 102,
   "id": "62daa108-0dc4-4111-843c-c77fa2f72837",
   "metadata": {},
   "outputs": [],
   "source": [
    "data_cleaned = pd.read_csv(r\"C:\\Users\\khali\\cleaned_data_LGC.csv\")"
   ]
  },
  {
   "cell_type": "code",
   "execution_count": 104,
   "id": "a9d88f75-aea8-4a88-ab43-1b29ede2fd76",
   "metadata": {},
   "outputs": [
    {
     "name": "stdout",
     "output_type": "stream",
     "text": [
      "   Index               Order No       Customer ID  Site Channel (Web)  \\\n",
      "0      1  ORDACODR4122316575695  CUS5020005842526  MANC       Non-Web   \n",
      "1      2  ORDEKOE10157604022214  CUS9720048726428  MILA       Non-Web   \n",
      "2      3  ORDLQME10161113943828  CUS5220014554169  MILA           Web   \n",
      "3      4  ORDMNZE10162377382941  CUS9720048726428  MILA           Web   \n",
      "4      5  ORDOTBE10163125040476  CUS6320133703341  MANC           Web   \n",
      "\n",
      "  Base Currency Code  Base Revenue  FX Rate Reporting Revenue Invoiced Date  \\\n",
      "0                USD         52.42     1.27            41.28     2023-08-06   \n",
      "1                EUR        267.30     1.19           224.62     2023-02-10   \n",
      "2                EUR        351.48     1.19           295.36     2023-01-11   \n",
      "3                EUR        705.13     1.19           592.55     2023-02-10   \n",
      "4                USD        471.88     1.34           352.15     2023-04-01   \n",
      "\n",
      "  Delivery Country   Product Range  \n",
      "0    United States  Industrials OP  \n",
      "1            Italy             Trc  \n",
      "2            Italy         Dr E OP  \n",
      "3            Italy     Mikromol OP  \n",
      "4    United States         Dr E OP  \n"
     ]
    }
   ],
   "source": [
    "print(data_cleaned.head())"
   ]
  },
  {
   "cell_type": "code",
   "execution_count": 106,
   "id": "b567ccbd-78cb-4064-b8f6-9902d95572bd",
   "metadata": {},
   "outputs": [
    {
     "name": "stdout",
     "output_type": "stream",
     "text": [
      "<class 'pandas.core.frame.DataFrame'>\n",
      "RangeIndex: 114997 entries, 0 to 114996\n",
      "Data columns (total 12 columns):\n",
      " #   Column              Non-Null Count   Dtype  \n",
      "---  ------              --------------   -----  \n",
      " 0   Index               114997 non-null  int64  \n",
      " 1   Order No            114997 non-null  object \n",
      " 2   Customer ID         114997 non-null  object \n",
      " 3   Site                114997 non-null  object \n",
      " 4   Channel (Web)       114997 non-null  object \n",
      " 5   Base Currency Code  114997 non-null  object \n",
      " 6   Base Revenue        114997 non-null  float64\n",
      " 7   FX Rate             114997 non-null  float64\n",
      " 8   Reporting Revenue   114997 non-null  object \n",
      " 9   Invoiced Date       114997 non-null  object \n",
      " 10  Delivery Country    114997 non-null  object \n",
      " 11  Product Range       114997 non-null  object \n",
      "dtypes: float64(2), int64(1), object(9)\n",
      "memory usage: 10.5+ MB\n"
     ]
    }
   ],
   "source": [
    "data_cleaned.info()"
   ]
  },
  {
   "cell_type": "code",
   "execution_count": 110,
   "id": "15f28998-e5c0-45f8-ad28-f7ef932202af",
   "metadata": {},
   "outputs": [],
   "source": [
    "# Step 1: Clean the 'Reporting Revenue' column by removing commas and converting to numeric\n",
    "data_cleaned['Reporting Revenue'] = data_cleaned['Reporting Revenue'].replace({',': ''}, regex=True)  # Remove commas\n",
    "\n",
    "# Convert 'Reporting Revenue' to numeric (float64), coerce errors to NaN\n",
    "data_cleaned['Reporting Revenue'] = pd.to_numeric(data_cleaned['Reporting Revenue'], errors='coerce')"
   ]
  },
  {
   "cell_type": "code",
   "execution_count": 112,
   "id": "d3e7e1ca-3cbe-4a88-a4f9-2baa28b9011a",
   "metadata": {},
   "outputs": [
    {
     "name": "stdout",
     "output_type": "stream",
     "text": [
      "Index                 0\n",
      "Order No              0\n",
      "Customer ID           0\n",
      "Site                  0\n",
      "Channel (Web)         0\n",
      "Base Currency Code    0\n",
      "Base Revenue          0\n",
      "FX Rate               0\n",
      "Reporting Revenue     0\n",
      "Invoiced Date         0\n",
      "Delivery Country      0\n",
      "Product Range         0\n",
      "dtype: int64\n"
     ]
    }
   ],
   "source": [
    "print(data_cleaned.isna().sum())"
   ]
  },
  {
   "cell_type": "code",
   "execution_count": 116,
   "id": "1a498d60-e95b-439b-bd1c-4e74f0c24011",
   "metadata": {},
   "outputs": [
    {
     "name": "stdout",
     "output_type": "stream",
     "text": [
      "Missing 'Reporting Revenue' for customer CUS0020094734849: 0\n",
      "       Index               Order No       Customer ID  Site Channel (Web)  \\\n",
      "84351  88423  ORDOCNY10150176077021  CUS0020094734849  MANC       Non-Web   \n",
      "84352  88424  ORDMDDY10150176779710  CUS0020094734849  MANC       Non-Web   \n",
      "84466  88549  ORDSMVY10150265137266  CUS0020094734849  MANC       Non-Web   \n",
      "84467  88550  ORDWQYY10150265367770  CUS0020094734849  MANC       Non-Web   \n",
      "86339  90584  ORDSNBY10151143620956  CUS0020094734849  MANC       Non-Web   \n",
      "\n",
      "      Base Currency Code  Base Revenue  FX Rate  Reporting Revenue  \\\n",
      "84351                USD        151.62     1.34             113.15   \n",
      "84352                USD        270.61     1.34             201.95   \n",
      "84466                USD        600.80     1.34             448.36   \n",
      "84467                USD        206.08     1.34             153.79   \n",
      "86339                USD        124.49     1.34              92.90   \n",
      "\n",
      "      Invoiced Date Delivery Country Product Range  \n",
      "84351    2023-03-01    United States       Dr E OP  \n",
      "84352    2023-03-01    United States       Dr E OP  \n",
      "84466    2023-04-01    United States       Dr E OP  \n",
      "84467    2023-04-01    United States       Dr E OP  \n",
      "86339    2023-04-01    United States       Dr E OP  \n"
     ]
    }
   ],
   "source": [
    "# Filter the dataset for the specific customer and check for missing 'Reporting Revenue' values\n",
    "customer_data = data_cleaned[data_cleaned['Customer ID'] == 'CUS0020094734849']\n",
    "\n",
    "# Check how many missing values there are in 'Reporting Revenue' for this customer\n",
    "missing_customer_revenue = customer_data['Reporting Revenue'].isna().sum()\n",
    "print(f\"Missing 'Reporting Revenue' for customer CUS0020094734849: {missing_customer_revenue}\")\n",
    "\n",
    "print(customer_data.head())"
   ]
  },
  {
   "cell_type": "code",
   "execution_count": 122,
   "id": "ab097bf5-3a31-43bb-aa6a-c3c9cc091db3",
   "metadata": {},
   "outputs": [],
   "source": [
    "# 'Invoiced Date' to datetime format\n",
    "data_cleaned['Invoiced Date'] = pd.to_datetime(data_cleaned['Invoiced Date'], errors='coerce')"
   ]
  },
  {
   "cell_type": "code",
   "execution_count": 124,
   "id": "a9c11b2c-0486-4b69-8521-f258911ef3ae",
   "metadata": {},
   "outputs": [
    {
     "name": "stdout",
     "output_type": "stream",
     "text": [
      "<class 'pandas.core.frame.DataFrame'>\n",
      "RangeIndex: 114997 entries, 0 to 114996\n",
      "Data columns (total 12 columns):\n",
      " #   Column              Non-Null Count   Dtype         \n",
      "---  ------              --------------   -----         \n",
      " 0   Index               114997 non-null  int64         \n",
      " 1   Order No            114997 non-null  object        \n",
      " 2   Customer ID         114997 non-null  object        \n",
      " 3   Site                114997 non-null  object        \n",
      " 4   Channel (Web)       114997 non-null  object        \n",
      " 5   Base Currency Code  114997 non-null  object        \n",
      " 6   Base Revenue        114997 non-null  float64       \n",
      " 7   FX Rate             114997 non-null  float64       \n",
      " 8   Reporting Revenue   114997 non-null  float64       \n",
      " 9   Invoiced Date       114997 non-null  datetime64[ns]\n",
      " 10  Delivery Country    114997 non-null  object        \n",
      " 11  Product Range       114997 non-null  object        \n",
      "dtypes: datetime64[ns](1), float64(3), int64(1), object(7)\n",
      "memory usage: 10.5+ MB\n"
     ]
    }
   ],
   "source": [
    "data_cleaned.info()"
   ]
  },
  {
   "cell_type": "code",
   "execution_count": 126,
   "id": "853fd0dc-6355-4658-ad37-237d801e952d",
   "metadata": {},
   "outputs": [
    {
     "name": "stdout",
     "output_type": "stream",
     "text": [
      "Total Reporting Revenue for Mar23 & Apr23 for CUS0020094734849: $2489.90\n"
     ]
    }
   ],
   "source": [
    "# Filter for Mar23 and Apr23 data\n",
    "mar_apr_data = data_cleaned[(data_cleaned['Invoiced Date'].dt.month == 3) & (data_cleaned['Invoiced Date'].dt.year == 2023) |\n",
    "                            (data_cleaned['Invoiced Date'].dt.month == 4) & (data_cleaned['Invoiced Date'].dt.year == 2023)]\n",
    "\n",
    "# Filter for the specific customer\n",
    "customer_mar_apr = mar_apr_data[mar_apr_data['Customer ID'] == 'CUS0020094734849']\n",
    "\n",
    "# Calculate the total Reporting Revenue for Mar23 & Apr23\n",
    "total_reporting_revenue = customer_mar_apr['Reporting Revenue'].sum()\n",
    "\n",
    "# Print the total reporting revenue\n",
    "print(f\"Total Reporting Revenue for Mar23 & Apr23 for CUS0020094734849: ${total_reporting_revenue:.2f}\")"
   ]
  },
  {
   "cell_type": "code",
   "execution_count": 128,
   "id": "5ded3b50-294e-4e7f-8c8c-6709294e0d17",
   "metadata": {},
   "outputs": [
    {
     "name": "stdout",
     "output_type": "stream",
     "text": [
      "Total Revenue for December 2023: $2331364.16\n",
      "Total Revenue for November 2023: $3400971.83\n",
      "Total Revenue for January 2024: $1667094.34\n"
     ]
    }
   ],
   "source": [
    "# Filter data for December 2023\n",
    "december_data = data_cleaned[(data_cleaned['Invoiced Date'].dt.month == 12) & (data_cleaned['Invoiced Date'].dt.year == 2023)]\n",
    "\n",
    "# Summarise the total revenue for December 2023\n",
    "total_december_revenue = december_data['Reporting Revenue'].sum()\n",
    "print(f\"Total Revenue for December 2023: ${total_december_revenue:.2f}\")\n",
    "\n",
    "# Compare with revenue in other months (e.g., Nov 2023, Jan 2024) for context\n",
    "november_data = data_cleaned[(data_cleaned['Invoiced Date'].dt.month == 11) & (data_cleaned['Invoiced Date'].dt.year == 2023)]\n",
    "total_november_revenue = november_data['Reporting Revenue'].sum()\n",
    "print(f\"Total Revenue for November 2023: ${total_november_revenue:.2f}\")\n",
    "\n",
    "january_data = data_cleaned[(data_cleaned['Invoiced Date'].dt.month == 1) & (data_cleaned['Invoiced Date'].dt.year == 2024)]\n",
    "total_january_revenue = january_data['Reporting Revenue'].sum()\n",
    "print(f\"Total Revenue for January 2024: ${total_january_revenue:.2f}\")"
   ]
  },
  {
   "cell_type": "code",
   "execution_count": 134,
   "id": "171669de-87e8-444b-ba00-45b2a5158ebe",
   "metadata": {},
   "outputs": [
    {
     "data": {
      "image/png": "[encoded data removed]",
      "text/plain": [
       "<Figure size 640x480 with 1 Axes>"
      ]
     },
     "metadata": {},
     "output_type": "display_data"
    }
   ],
   "source": [
    "import matplotlib.pyplot as plt\n",
    "\n",
    "# Convert the PeriodIndex to DatetimeIndex\n",
    "monthly_revenue = data_cleaned.groupby(data_cleaned['Invoiced Date'].dt.to_period('M'))['Reporting Revenue'].sum()\n",
    "monthly_revenue.index = monthly_revenue.index.to_timestamp()  # Convert PeriodIndex to DatetimeIndex\n",
    "\n",
    "# Plot the 'Reporting Revenue' over time\n",
    "plt.plot(monthly_revenue.index, monthly_revenue.values, marker='o', linestyle='-', color='b')\n",
    "plt.title('Monthly Reporting Revenue Over Time')\n",
    "plt.xlabel('Month')\n",
    "plt.ylabel('Reporting Revenue')\n",
    "plt.xticks(rotation=45)\n",
    "plt.grid(True)\n",
    "plt.show()"
   ]
  },
  {
   "cell_type": "code",
   "execution_count": 140,
   "id": "5f4c9f41-1116-4a7e-98c0-dce16708546b",
   "metadata": {},
   "outputs": [
    {
     "name": "stderr",
     "output_type": "stream",
     "text": [
      "C:\\Users\\khali\\AppData\\Local\\Temp\\ipykernel_23888\\2341963152.py:11: FutureWarning: 'M' is deprecated and will be removed in a future version, please use 'ME' instead.\n",
      "  monthly_revenue = revenue_data.resample('M').sum()\n"
     ]
    },
    {
     "data": {
      "image/png": "[encoded data removed]",
      "text/plain": [
       "<Figure size 1000x600 with 1 Axes>"
      ]
     },
     "metadata": {},
     "output_type": "display_data"
    }
   ],
   "source": [
    "import pandas as pd\n",
    "import matplotlib.pyplot as plt\n",
    "from statsmodels.tsa.holtwinters import ExponentialSmoothing\n",
    "\n",
    "# Make sure 'Invoiced Date' is the index\n",
    "data_cleaned['Invoiced Date'] = pd.to_datetime(data_cleaned['Invoiced Date'])\n",
    "revenue_data = data_cleaned[['Invoiced Date', 'Reporting Revenue']]\n",
    "revenue_data.set_index('Invoiced Date', inplace=True)\n",
    "\n",
    "# Resample to monthly data, summing the Reporting Revenue for each month\n",
    "monthly_revenue = revenue_data.resample('M').sum()\n",
    "\n",
    "# Plot the monthly revenue data to visualize the trend and seasonality\n",
    "monthly_revenue.plot(figsize=(10, 6))\n",
    "plt.title('Monthly Reporting Revenue')\n",
    "plt.ylabel('Reporting Revenue')\n",
    "plt.xlabel('Date')\n",
    "plt.show()"
   ]
  },
  {
   "cell_type": "code",
   "execution_count": 148,
   "id": "dd22724a-9dd6-4aba-bf44-00a218ca519c",
   "metadata": {},
   "outputs": [
    {
     "ename": "KeyError",
     "evalue": "'Invoiced Date'",
     "output_type": "error",
     "traceback": [
      "\u001b[1;31m---------------------------------------------------------------------------\u001b[0m",
      "\u001b[1;31mKeyError\u001b[0m                                  Traceback (most recent call last)",
      "File \u001b[1;32m~\\anaconda3\\Lib\\site-packages\\pandas\\core\\indexes\\base.py:3805\u001b[0m, in \u001b[0;36mIndex.get_loc\u001b[1;34m(self, key)\u001b[0m\n\u001b[0;32m   3804\u001b[0m \u001b[38;5;28;01mtry\u001b[39;00m:\n\u001b[1;32m-> 3805\u001b[0m     \u001b[38;5;28;01mreturn\u001b[39;00m \u001b[38;5;28mself\u001b[39m\u001b[38;5;241m.\u001b[39m_engine\u001b[38;5;241m.\u001b[39mget_loc(casted_key)\n\u001b[0;32m   3806\u001b[0m \u001b[38;5;28;01mexcept\u001b[39;00m \u001b[38;5;167;01mKeyError\u001b[39;00m \u001b[38;5;28;01mas\u001b[39;00m err:\n",
      "File \u001b[1;32mindex.pyx:167\u001b[0m, in \u001b[0;36mpandas._libs.index.IndexEngine.get_loc\u001b[1;34m()\u001b[0m\n",
      "File \u001b[1;32mindex.pyx:196\u001b[0m, in \u001b[0;36mpandas._libs.index.IndexEngine.get_loc\u001b[1;34m()\u001b[0m\n",
      "File \u001b[1;32mpandas\\\\_libs\\\\hashtable_class_helper.pxi:7081\u001b[0m, in \u001b[0;36mpandas._libs.hashtable.PyObjectHashTable.get_item\u001b[1;34m()\u001b[0m\n",
      "File \u001b[1;32mpandas\\\\_libs\\\\hashtable_class_helper.pxi:7089\u001b[0m, in \u001b[0;36mpandas._libs.hashtable.PyObjectHashTable.get_item\u001b[1;34m()\u001b[0m\n",
      "\u001b[1;31mKeyError\u001b[0m: 'Invoiced Date'",
      "\nThe above exception was the direct cause of the following exception:\n",
      "\u001b[1;31mKeyError\u001b[0m                                  Traceback (most recent call last)",
      "Cell \u001b[1;32mIn[148], line 8\u001b[0m\n\u001b[0;32m      3\u001b[0m \u001b[38;5;28;01mfrom\u001b[39;00m \u001b[38;5;21;01mstatsmodels\u001b[39;00m\u001b[38;5;21;01m.\u001b[39;00m\u001b[38;5;21;01mtsa\u001b[39;00m\u001b[38;5;21;01m.\u001b[39;00m\u001b[38;5;21;01mholtwinters\u001b[39;00m \u001b[38;5;28;01mimport\u001b[39;00m ExponentialSmoothing\n\u001b[0;32m      5\u001b[0m \u001b[38;5;66;03m# Assuming 'data_cleaned' contains the revenue data and 'Invoiced Date' is the date column.\u001b[39;00m\n\u001b[0;32m      6\u001b[0m \n\u001b[0;32m      7\u001b[0m \u001b[38;5;66;03m# Ensure 'Invoiced Date' is in datetime format\u001b[39;00m\n\u001b[1;32m----> 8\u001b[0m data_cleaned[\u001b[38;5;124m'\u001b[39m\u001b[38;5;124mInvoiced Date\u001b[39m\u001b[38;5;124m'\u001b[39m] \u001b[38;5;241m=\u001b[39m pd\u001b[38;5;241m.\u001b[39mto_datetime(data_cleaned[\u001b[38;5;124m'\u001b[39m\u001b[38;5;124mInvoiced Date\u001b[39m\u001b[38;5;124m'\u001b[39m], errors\u001b[38;5;241m=\u001b[39m\u001b[38;5;124m'\u001b[39m\u001b[38;5;124mcoerce\u001b[39m\u001b[38;5;124m'\u001b[39m)\n\u001b[0;32m     10\u001b[0m \u001b[38;5;66;03m# Set 'Invoiced Date' as the index\u001b[39;00m\n\u001b[0;32m     11\u001b[0m data_cleaned\u001b[38;5;241m.\u001b[39mset_index(\u001b[38;5;124m'\u001b[39m\u001b[38;5;124mInvoiced Date\u001b[39m\u001b[38;5;124m'\u001b[39m, inplace\u001b[38;5;241m=\u001b[39m\u001b[38;5;28;01mTrue\u001b[39;00m)\n",
      "File \u001b[1;32m~\\anaconda3\\Lib\\site-packages\\pandas\\core\\frame.py:4102\u001b[0m, in \u001b[0;36mDataFrame.__getitem__\u001b[1;34m(self, key)\u001b[0m\n\u001b[0;32m   4100\u001b[0m \u001b[38;5;28;01mif\u001b[39;00m \u001b[38;5;28mself\u001b[39m\u001b[38;5;241m.\u001b[39mcolumns\u001b[38;5;241m.\u001b[39mnlevels \u001b[38;5;241m>\u001b[39m \u001b[38;5;241m1\u001b[39m:\n\u001b[0;32m   4101\u001b[0m     \u001b[38;5;28;01mreturn\u001b[39;00m \u001b[38;5;28mself\u001b[39m\u001b[38;5;241m.\u001b[39m_getitem_multilevel(key)\n\u001b[1;32m-> 4102\u001b[0m indexer \u001b[38;5;241m=\u001b[39m \u001b[38;5;28mself\u001b[39m\u001b[38;5;241m.\u001b[39mcolumns\u001b[38;5;241m.\u001b[39mget_loc(key)\n\u001b[0;32m   4103\u001b[0m \u001b[38;5;28;01mif\u001b[39;00m is_integer(indexer):\n\u001b[0;32m   4104\u001b[0m     indexer \u001b[38;5;241m=\u001b[39m [indexer]\n",
      "File \u001b[1;32m~\\anaconda3\\Lib\\site-packages\\pandas\\core\\indexes\\base.py:3812\u001b[0m, in \u001b[0;36mIndex.get_loc\u001b[1;34m(self, key)\u001b[0m\n\u001b[0;32m   3807\u001b[0m     \u001b[38;5;28;01mif\u001b[39;00m \u001b[38;5;28misinstance\u001b[39m(casted_key, \u001b[38;5;28mslice\u001b[39m) \u001b[38;5;129;01mor\u001b[39;00m (\n\u001b[0;32m   3808\u001b[0m         \u001b[38;5;28misinstance\u001b[39m(casted_key, abc\u001b[38;5;241m.\u001b[39mIterable)\n\u001b[0;32m   3809\u001b[0m         \u001b[38;5;129;01mand\u001b[39;00m \u001b[38;5;28many\u001b[39m(\u001b[38;5;28misinstance\u001b[39m(x, \u001b[38;5;28mslice\u001b[39m) \u001b[38;5;28;01mfor\u001b[39;00m x \u001b[38;5;129;01min\u001b[39;00m casted_key)\n\u001b[0;32m   3810\u001b[0m     ):\n\u001b[0;32m   3811\u001b[0m         \u001b[38;5;28;01mraise\u001b[39;00m InvalidIndexError(key)\n\u001b[1;32m-> 3812\u001b[0m     \u001b[38;5;28;01mraise\u001b[39;00m \u001b[38;5;167;01mKeyError\u001b[39;00m(key) \u001b[38;5;28;01mfrom\u001b[39;00m \u001b[38;5;21;01merr\u001b[39;00m\n\u001b[0;32m   3813\u001b[0m \u001b[38;5;28;01mexcept\u001b[39;00m \u001b[38;5;167;01mTypeError\u001b[39;00m:\n\u001b[0;32m   3814\u001b[0m     \u001b[38;5;66;03m# If we have a listlike key, _check_indexing_error will raise\u001b[39;00m\n\u001b[0;32m   3815\u001b[0m     \u001b[38;5;66;03m#  InvalidIndexError. Otherwise we fall through and re-raise\u001b[39;00m\n\u001b[0;32m   3816\u001b[0m     \u001b[38;5;66;03m#  the TypeError.\u001b[39;00m\n\u001b[0;32m   3817\u001b[0m     \u001b[38;5;28mself\u001b[39m\u001b[38;5;241m.\u001b[39m_check_indexing_error(key)\n",
      "\u001b[1;31mKeyError\u001b[0m: 'Invoiced Date'"
     ]
    }
   ],
   "source": [
    "import pandas as pd\n",
    "import matplotlib.pyplot as plt\n",
    "from statsmodels.tsa.holtwinters import ExponentialSmoothing\n",
    "\n",
    "# Assuming 'data_cleaned' contains the revenue data and 'Invoiced Date' is the date column.\n",
    "\n",
    "# Ensure 'Invoiced Date' is in datetime format\n",
    "data_cleaned['Invoiced Date'] = pd.to_datetime(data_cleaned['Invoiced Date'], errors='coerce')\n",
    "\n",
    "# Set 'Invoiced Date' as the index\n",
    "data_cleaned.set_index('Invoiced Date', inplace=True)\n",
    "\n",
    "# Resample the data by month, summing the revenue for each month (if applicable)\n",
    "monthly_revenue = data_cleaned.resample('ME').sum()  # Use 'ME' for monthly frequency\n",
    "\n",
    "# Apply the Holt-Winters Exponential Smoothing model (with seasonality)\n",
    "holt_winters_model = ExponentialSmoothing(\n",
    "    monthly_revenue['Reporting Revenue'],\n",
    "    trend='add',  # Additive trend component\n",
    "    seasonal='add',  # Additive seasonal component\n",
    "    seasonal_periods=6,  # Reduce seasonal period if there’s not strong yearly seasonality\n",
    "    initialization_method=\"estimated\"\n",
    ").fit(maxiter=100)  # Allow up to 100 iterations for convergence\n",
    "\n",
    "# Forecast the next 3 months (April, May, June 2024)\n",
    "forecast = holt_winters_model.forecast(steps=3)\n",
    "\n",
    "# Generate forecasted index for the next 3 months (April, May, June 2024)\n",
    "forecast_index = pd.date_range(start='2024-04-01', periods=3, freq='ME')\n",
    "forecast_df = pd.DataFrame(forecast, index=forecast_index, columns=['Forecasted Revenue'])\n",
    "\n",
    "# Plotting actual and forecasted data together\n",
    "plt.figure(figsize=(10, 6))\n",
    "\n",
    "# Plot actual revenue data until March 2024\n",
    "plt.plot(monthly_revenue.index, monthly_revenue['Reporting Revenue'], label='Actual Revenue', color='blue')\n",
    "\n",
    "# Plot forecasted revenue from April 2024 onwards\n",
    "plt.plot(forecast_df.index, forecast_df['Forecasted Revenue'], label='Forecasted Revenue', color='red', linestyle='--')\n",
    "\n",
    "# Set titles and labels\n",
    "plt.title('Holt-Winters Forecast for Reporting Revenue')\n",
    "plt.xlabel('Date')\n",
    "plt.ylabel('Revenue')\n",
    "plt.legend()\n",
    "plt.grid(True)\n",
    "\n",
    "# Display the plot\n",
    "plt.show()\n",
    "\n",
    "# Print the forecasted revenue for April, May, and June 2024\n",
    "print(forecast_df)"
   ]
  },
  {
   "cell_type": "code",
   "execution_count": 158,
   "id": "59902d43-d39b-4a7e-89ca-4da6dfa46f13",
   "metadata": {},
   "outputs": [
    {
     "name": "stdout",
     "output_type": "stream",
     "text": [
      "<class 'pandas.core.frame.DataFrame'>\n",
      "DatetimeIndex: 114997 entries, 2023-08-06 to 2024-12-03\n",
      "Data columns (total 11 columns):\n",
      " #   Column              Non-Null Count   Dtype  \n",
      "---  ------              --------------   -----  \n",
      " 0   Index               114997 non-null  int64  \n",
      " 1   Order No            114997 non-null  object \n",
      " 2   Customer ID         114997 non-null  object \n",
      " 3   Site                114997 non-null  object \n",
      " 4   Channel (Web)       114997 non-null  object \n",
      " 5   Base Currency Code  114997 non-null  object \n",
      " 6   Base Revenue        114997 non-null  float64\n",
      " 7   FX Rate             114997 non-null  float64\n",
      " 8   Reporting Revenue   114997 non-null  float64\n",
      " 9   Delivery Country    114997 non-null  object \n",
      " 10  Product Range       114997 non-null  object \n",
      "dtypes: float64(3), int64(1), object(7)\n",
      "memory usage: 10.5+ MB\n"
     ]
    }
   ],
   "source": [
    "data_cleaned.info()"
   ]
  },
  {
   "cell_type": "code",
   "execution_count": 160,
   "id": "77e10388-c0c0-4370-8848-d11eeb6de520",
   "metadata": {},
   "outputs": [],
   "source": [
    "data_cleaned.reset_index(inplace=True)"
   ]
  },
  {
   "cell_type": "code",
   "execution_count": 162,
   "id": "c233d41c-1cb8-4bbb-93f9-79f6e1a2e8ab",
   "metadata": {},
   "outputs": [
    {
     "name": "stdout",
     "output_type": "stream",
     "text": [
      "Index(['Invoiced Date', 'Index', 'Order No', 'Customer ID', 'Site',\n",
      "       'Channel (Web)', 'Base Currency Code', 'Base Revenue', 'FX Rate',\n",
      "       'Reporting Revenue', 'Delivery Country', 'Product Range'],\n",
      "      dtype='object')\n"
     ]
    }
   ],
   "source": [
    "print(data_cleaned.columns)"
   ]
  },
  {
   "cell_type": "code",
   "execution_count": 164,
   "id": "3d674ba2-fa28-4e72-a607-cb6299ab89e5",
   "metadata": {},
   "outputs": [
    {
     "name": "stdout",
     "output_type": "stream",
     "text": [
      "<class 'pandas.core.frame.DataFrame'>\n",
      "RangeIndex: 114997 entries, 0 to 114996\n",
      "Data columns (total 12 columns):\n",
      " #   Column              Non-Null Count   Dtype         \n",
      "---  ------              --------------   -----         \n",
      " 0   Invoiced Date       114997 non-null  datetime64[ns]\n",
      " 1   Index               114997 non-null  int64         \n",
      " 2   Order No            114997 non-null  object        \n",
      " 3   Customer ID         114997 non-null  object        \n",
      " 4   Site                114997 non-null  object        \n",
      " 5   Channel (Web)       114997 non-null  object        \n",
      " 6   Base Currency Code  114997 non-null  object        \n",
      " 7   Base Revenue        114997 non-null  float64       \n",
      " 8   FX Rate             114997 non-null  float64       \n",
      " 9   Reporting Revenue   114997 non-null  float64       \n",
      " 10  Delivery Country    114997 non-null  object        \n",
      " 11  Product Range       114997 non-null  object        \n",
      "dtypes: datetime64[ns](1), float64(3), int64(1), object(7)\n",
      "memory usage: 10.5+ MB\n"
     ]
    }
   ],
   "source": [
    "data_cleaned.info()"
   ]
  },
  {
   "cell_type": "code",
   "execution_count": 166,
   "id": "bfdbf6cc-49ae-4d5d-bb6f-8fb8ac4b8da4",
   "metadata": {},
   "outputs": [],
   "source": [
    "data_cleaned.to_csv('forecasting_task_LGC.csv', index=False)"
   ]
  },
  {
   "cell_type": "code",
   "execution_count": 168,
   "id": "77a4bf81-0e48-4b8a-bd2f-9a6e9fd2ed96",
   "metadata": {},
   "outputs": [
    {
     "name": "stdout",
     "output_type": "stream",
     "text": [
      "Total Revenue for April 2024: $149926.94\n"
     ]
    }
   ],
   "source": [
    "april_data = data_cleaned[(data_cleaned['Invoiced Date'].dt.month == 4) & (data_cleaned['Invoiced Date'].dt.year == 2024)]\n",
    "total_april_revenue = april_data['Reporting Revenue'].sum()\n",
    "print(f\"Total Revenue for April 2024: ${total_april_revenue:.2f}\")"
   ]
  }
 ],
 "metadata": {
  "kernelspec": {
   "display_name": "Python 3 (ipykernel)",
   "language": "python",
   "name": "python3"
  },
  "language_info": {
   "codemirror_mode": {
    "name": "ipython",
    "version": 3
   },
   "file_extension": ".py",
   "mimetype": "text/x-python",
   "name": "python",
   "nbconvert_exporter": "python",
   "pygments_lexer": "ipython3",
   "version": "3.12.4"
  }
 },
 "nbformat": 4,
 "nbformat_minor": 5
}
